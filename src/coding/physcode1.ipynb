{
 "metadata": {
  "name": "",
  "signature": "sha256:3f995e91044742ae5467e007c465aec09a5c53cc003ec1f2a5c61d44466c8d6b"
 },
 "nbformat": 3,
 "nbformat_minor": 0,
 "worksheets": [
  {
   "cells": [
    {
     "cell_type": "code",
     "collapsed": false,
     "input": [
      "##Assignment 1\n",
      "\n",
      "#1. Convert feet to inches\n",
      "\n",
      "feet = 10\n",
      "\n",
      "inches = feet * 12\n",
      "\n",
      "print feet, \"feet is :\\t\", inches, \"inches\"\n"
     ],
     "language": "python",
     "metadata": {},
     "outputs": [
      {
       "output_type": "stream",
       "stream": "stdout",
       "text": [
        "10 feet is :\t120 inches\n"
       ]
      }
     ],
     "prompt_number": 1
    },
    {
     "cell_type": "code",
     "collapsed": false,
     "input": [
      "#2. Take raw_input for the number of feet, then convert to inches\n",
      "\n",
      "feet = float(raw_input('# of feet?\\t'))\n",
      "inches = feet * 12\n",
      "\n",
      "print feet, \"feet is :\\t\", inches, \"inches\"\n",
      "\n"
     ],
     "language": "python",
     "metadata": {},
     "outputs": [
      {
       "name": "stdout",
       "output_type": "stream",
       "stream": "stdout",
       "text": [
        "# of feet?\t2\n"
       ]
      },
      {
       "output_type": "stream",
       "stream": "stdout",
       "text": [
        "2.0 feet is :\t24.0 inches\n"
       ]
      }
     ],
     "prompt_number": 2
    },
    {
     "cell_type": "code",
     "collapsed": false,
     "input": [
      "#3. Take raw_input for the # of inches, then convert to feet\n",
      "\n",
      "inches = float(raw_input('# of inches?\\t'))\n",
      "feet = inches/12.0\n",
      "\n",
      "print inches, \"inches is:\\t\", feet, \"feet\"\n"
     ],
     "language": "python",
     "metadata": {},
     "outputs": [
      {
       "name": "stdout",
       "output_type": "stream",
       "stream": "stdout",
       "text": [
        "# of inches?\t2\n"
       ]
      },
      {
       "output_type": "stream",
       "stream": "stdout",
       "text": [
        "2.0 inches is:\t0.166666666667 feet\n"
       ]
      }
     ],
     "prompt_number": 3
    },
    {
     "cell_type": "code",
     "collapsed": false,
     "input": [
      "#4. Write a function that takes the number of inches as an \n",
      "#argument, and returns the number of feet\n",
      "\n",
      "def inches_to_feet(inches=12.0):\n",
      "    feet = inches/12.0\n",
      "    return feet\n",
      "\n",
      "##Call it using the same input stub as above:\n",
      "\n",
      "inches = float(raw_input('# of inches?\\t'))\n",
      "feet = inches_to_feet(inches)\n",
      "\n",
      "print inches, \"inches is:\\t\", feet, \"feet\""
     ],
     "language": "python",
     "metadata": {},
     "outputs": [
      {
       "name": "stdout",
       "output_type": "stream",
       "stream": "stdout",
       "text": [
        "# of inches?\t2\n"
       ]
      },
      {
       "output_type": "stream",
       "stream": "stdout",
       "text": [
        "2.0 inches is:\t0.166666666667 feet\n"
       ]
      }
     ],
     "prompt_number": 4
    },
    {
     "cell_type": "code",
     "collapsed": false,
     "input": [
      "#5. Write functions that convert between each pair of the following\n",
      "# length units:\n",
      "# feet inches centimeters meters miles kilometers furlongs\n",
      "\n",
      "def feet_to_inches(feet=1):\n",
      "    inches = feet*12.0\n",
      "    return inches\n",
      "\n",
      "def feet_to_miles(feet=5280):\n",
      "    miles = feet/5280.0\n",
      "    return miles\n",
      "\n",
      "def centimeters_to_meters(centimeters=100):\n",
      "    meters = centimeters/100.0\n",
      "    return meters\n",
      "\n",
      "def meters_to_kilometers(meters=1000):\n",
      "    km = meters/1000.0\n",
      "    return km\n",
      "\n",
      "def inches_to_centimeters(inches=2.54):\n",
      "    cm = inches*2.54\n",
      "    return cm\n",
      "\n",
      "def centimeters_to_inches(cm=1):\n",
      "    inches = inches_to_centimeters()\n",
      "    return inches\n",
      "\n",
      "def convert(u1,u2,factor):\n",
      "    pass\n"
     ],
     "language": "python",
     "metadata": {},
     "outputs": [],
     "prompt_number": 30
    },
    {
     "cell_type": "code",
     "collapsed": false,
     "input": [
      "print meters_to_kilometers(centimeters_to_meters(inches_to_centimeters(12000)))"
     ],
     "language": "python",
     "metadata": {},
     "outputs": [
      {
       "output_type": "stream",
       "stream": "stdout",
       "text": [
        "0.3048\n"
       ]
      }
     ],
     "prompt_number": 6
    },
    {
     "cell_type": "code",
     "collapsed": false,
     "input": [
      "inches_to_centimeters(12000)"
     ],
     "language": "python",
     "metadata": {},
     "outputs": [
      {
       "metadata": {},
       "output_type": "pyout",
       "prompt_number": 7,
       "text": [
        "30480.0"
       ]
      }
     ],
     "prompt_number": 7
    },
    {
     "cell_type": "code",
     "collapsed": false,
     "input": [
      "centimeters_to_meters(30480)"
     ],
     "language": "python",
     "metadata": {},
     "outputs": [
      {
       "metadata": {},
       "output_type": "pyout",
       "prompt_number": 8,
       "text": [
        "304.8"
       ]
      }
     ],
     "prompt_number": 8
    },
    {
     "cell_type": "code",
     "collapsed": false,
     "input": [
      "meters_to_kilometers(304.8)"
     ],
     "language": "python",
     "metadata": {},
     "outputs": [
      {
       "metadata": {},
       "output_type": "pyout",
       "prompt_number": 9,
       "text": [
        "0.3048"
       ]
      }
     ],
     "prompt_number": 9
    },
    {
     "cell_type": "code",
     "collapsed": false,
     "input": [
      "print meters_to_kilometers(centimeters_to_meters(inches_to_centimeters(feet_to_inches(5280))))"
     ],
     "language": "python",
     "metadata": {},
     "outputs": [
      {
       "output_type": "stream",
       "stream": "stdout",
       "text": [
        "1.609344\n"
       ]
      }
     ],
     "prompt_number": 10
    },
    {
     "cell_type": "code",
     "collapsed": false,
     "input": [
      "class unit():\n",
      "    def __init__(self, name, dim):\n",
      "        self.name = name\n",
      "        self.dim = dim\n",
      "        self.commensurable = {}\n",
      "    def convert(self, other):\n",
      "        if other in self.commensurable:\n",
      "            return self.commensurable[other]\n",
      "        else:\n",
      "            self.commensurable[other]=float(raw_input('conversion factor?'))"
     ],
     "language": "python",
     "metadata": {},
     "outputs": [],
     "prompt_number": 11
    },
    {
     "cell_type": "code",
     "collapsed": false,
     "input": [
      "inch = unit(\"inch\", \"length\")"
     ],
     "language": "python",
     "metadata": {},
     "outputs": [],
     "prompt_number": 12
    },
    {
     "cell_type": "code",
     "collapsed": false,
     "input": [
      "inch.convert(\"centimeter\")"
     ],
     "language": "python",
     "metadata": {},
     "outputs": [
      {
       "name": "stdout",
       "output_type": "stream",
       "stream": "stdout",
       "text": [
        "conversion factor?2.54\n"
       ]
      }
     ],
     "prompt_number": 13
    },
    {
     "cell_type": "code",
     "collapsed": false,
     "input": [
      "inch.commensurable[\"centimeter\"]"
     ],
     "language": "python",
     "metadata": {},
     "outputs": [
      {
       "metadata": {},
       "output_type": "pyout",
       "prompt_number": 15,
       "text": [
        "2.54"
       ]
      }
     ],
     "prompt_number": 15
    },
    {
     "cell_type": "code",
     "collapsed": false,
     "input": [
      "inch.convert(\"centimeter\")*3"
     ],
     "language": "python",
     "metadata": {},
     "outputs": [
      {
       "metadata": {},
       "output_type": "pyout",
       "prompt_number": 18,
       "text": [
        "7.62"
       ]
      }
     ],
     "prompt_number": 18
    },
    {
     "cell_type": "code",
     "collapsed": false,
     "input": [
      "centimeters_to_inches(10.0)"
     ],
     "language": "python",
     "metadata": {},
     "outputs": [
      {
       "metadata": {},
       "output_type": "pyout",
       "prompt_number": 29,
       "text": [
        "2.54"
       ]
      }
     ],
     "prompt_number": 29
    },
    {
     "cell_type": "code",
     "collapsed": false,
     "input": [],
     "language": "python",
     "metadata": {},
     "outputs": []
    }
   ],
   "metadata": {}
  }
 ]
}